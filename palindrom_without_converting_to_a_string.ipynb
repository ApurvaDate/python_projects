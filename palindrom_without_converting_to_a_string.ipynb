{
 "cells": [
  {
   "cell_type": "code",
   "execution_count": 13,
   "id": "fe674b5a",
   "metadata": {},
   "outputs": [],
   "source": [
    "def palindrome(x):#without converting it to a string\n",
    "    a = 0\n",
    "    c = x\n",
    "    while x>0:\n",
    "#         print(x)\n",
    "        r = x % 10 #which gives us the reminder\n",
    "        print(\"r----------------\",r)\n",
    "        x = x // 10  #floor division which gives us quotent\n",
    "        print(\"x----------------\",x)\n",
    "        a = (10*a) + r\n",
    "        print(\"a----------------\",a)\n",
    "    if a == c:\n",
    "        return True\n",
    "    else:\n",
    "        return False"
   ]
  },
  {
   "cell_type": "code",
   "execution_count": 17,
   "id": "3e394e56",
   "metadata": {},
   "outputs": [
    {
     "name": "stdout",
     "output_type": "stream",
     "text": [
      "r---------------- 1\n",
      "x---------------- 12345432\n",
      "a---------------- 1\n",
      "r---------------- 2\n",
      "x---------------- 1234543\n",
      "a---------------- 12\n",
      "r---------------- 3\n",
      "x---------------- 123454\n",
      "a---------------- 123\n",
      "r---------------- 4\n",
      "x---------------- 12345\n",
      "a---------------- 1234\n",
      "r---------------- 5\n",
      "x---------------- 1234\n",
      "a---------------- 12345\n",
      "r---------------- 4\n",
      "x---------------- 123\n",
      "a---------------- 123454\n",
      "r---------------- 3\n",
      "x---------------- 12\n",
      "a---------------- 1234543\n",
      "r---------------- 2\n",
      "x---------------- 1\n",
      "a---------------- 12345432\n",
      "r---------------- 1\n",
      "x---------------- 0\n",
      "a---------------- 123454321\n"
     ]
    },
    {
     "data": {
      "text/plain": [
       "True"
      ]
     },
     "execution_count": 17,
     "metadata": {},
     "output_type": "execute_result"
    }
   ],
   "source": [
    "palindrome(123454321)"
   ]
  },
  {
   "cell_type": "code",
   "execution_count": null,
   "id": "ebb3c543",
   "metadata": {},
   "outputs": [],
   "source": []
  },
  {
   "cell_type": "code",
   "execution_count": null,
   "id": "4979c011",
   "metadata": {},
   "outputs": [],
   "source": []
  },
  {
   "cell_type": "code",
   "execution_count": null,
   "id": "baefda4f",
   "metadata": {},
   "outputs": [],
   "source": []
  },
  {
   "cell_type": "code",
   "execution_count": null,
   "id": "b4fca2b2",
   "metadata": {},
   "outputs": [],
   "source": []
  }
 ],
 "metadata": {
  "kernelspec": {
   "display_name": "Python 3 (ipykernel)",
   "language": "python",
   "name": "python3"
  },
  "language_info": {
   "codemirror_mode": {
    "name": "ipython",
    "version": 3
   },
   "file_extension": ".py",
   "mimetype": "text/x-python",
   "name": "python",
   "nbconvert_exporter": "python",
   "pygments_lexer": "ipython3",
   "version": "3.10.9"
  }
 },
 "nbformat": 4,
 "nbformat_minor": 5
}
