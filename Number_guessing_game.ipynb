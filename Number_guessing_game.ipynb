{
 "cells": [
  {
   "cell_type": "markdown",
   "id": "074326b6",
   "metadata": {},
   "source": [
    "# Task"
   ]
  },
  {
   "cell_type": "markdown",
   "id": "306f69df",
   "metadata": {},
   "source": [
    "1. Build a Number guessing game, in which the user selects a range.\n",
    "2. Let’s say User selected a range, i.e., from A to B, where A and B belong to Integer.\n",
    "3. Some random integer will be selected by the system and the user\n",
    "4. has to guess that integer in the minimum number of guesses"
   ]
  },
  {
   "cell_type": "markdown",
   "id": "ba6293cb",
   "metadata": {},
   "source": [
    "#to find the lower number of guess we have a formula\n",
    "\n",
    " Minimum number of guessing = log2(Upper bound – lower bound + 1)"
   ]
  },
  {
   "cell_type": "markdown",
   "id": "89e7cb2b",
   "metadata": {},
   "source": [
    "#steps\n",
    "1. User inputs the lower bound and upper bound of the range.\n",
    "2. The compiler generates a random integer between the range and store it in a variable for future references.\n",
    "3. For repetitive guessing, a while loop will be initialized.\n",
    "4. If the user guessed a number which is greater than a randomly selected number, the user gets an output “Try Again! You guessed too high“\n",
    "5. Else If the user guessed a number which is smaller than a randomly selected number, the user gets an output “Try Again! You guessed too small”\n",
    "6. And if the user guessed in a minimum number of guesses, the user gets a “Congratulations! ” Output.\n",
    "7. Else if the user didn’t guess the integer in the minimum number of guesses, he/she will get “Better Luck Next Time!” output."
   ]
  },
  {
   "cell_type": "code",
   "execution_count": 6,
   "id": "6045a41f",
   "metadata": {},
   "outputs": [
    {
     "name": "stdout",
     "output_type": "stream",
     "text": [
      "Enter lower bound:- 2\n",
      "Enter upper bound:- 25\n",
      "\n",
      "\tYou have only  5  chances to guess this integer!\n",
      "\n",
      "Guess a number:- 13\n",
      "You guessed too high\n",
      "Guess a number:- 7\n",
      "You guessed too small!\n",
      "Guess a number:- 10\n",
      "You guessed too small!\n",
      "Guess a number:- 12\n",
      "You guessed too high\n",
      "Guess a number:- 11\n",
      "Congratulations you did it in  5  try\n",
      "\n",
      " The number is 11\n",
      "\t Better luck next time!\n"
     ]
    }
   ],
   "source": [
    "import random\n",
    "import math\n",
    "#taking inputs\n",
    "lower=int(input(\"Enter lower bound:- \"))\n",
    "upper=int(input(\"Enter upper bound:- \"))\n",
    "#to generate random numbers between lower and upper bound\n",
    "x=random.randint(lower,upper)\n",
    "print(\"\\n\\tYou have only \",round(math.log(upper-lower+1,2)),\" chances to guess this integer!\\n\")\n",
    "#initializing the number of guesses\n",
    "count=0\n",
    "#for calculating minimum number of guesses depends upon range\n",
    "while count<math.log(upper-lower+1,2):\n",
    "    count+=1\n",
    "    #taking guessing number as an input\n",
    "    guess=int(input(\"Guess a number:- \"))\n",
    "    #condition testing\n",
    "    if x==guess:\n",
    "        print(\"Congratulations you did it in \",count,\" try\")\n",
    "        #once guessed loop will break\n",
    "        break\n",
    "    elif x>guess:\n",
    "        print(\"You guessed too small!\")\n",
    "    elif x<guess:\n",
    "        print(\"You guessed too high\")\n",
    "#if guessing is more than required guesses show this output\n",
    "if count>=math.log(upper-lower+1,2):\n",
    "    print(\"\\n The number is %d\" % x)\n",
    "    print(\"\\t Better luck next time!\")   "
   ]
  },
  {
   "cell_type": "code",
   "execution_count": null,
   "id": "720878a3",
   "metadata": {},
   "outputs": [],
   "source": []
  },
  {
   "cell_type": "code",
   "execution_count": null,
   "id": "db9989d2",
   "metadata": {},
   "outputs": [],
   "source": []
  },
  {
   "cell_type": "code",
   "execution_count": null,
   "id": "a03a611d",
   "metadata": {},
   "outputs": [],
   "source": []
  },
  {
   "cell_type": "code",
   "execution_count": null,
   "id": "6282fcb0",
   "metadata": {},
   "outputs": [],
   "source": []
  },
  {
   "cell_type": "code",
   "execution_count": null,
   "id": "378173c2",
   "metadata": {},
   "outputs": [],
   "source": []
  }
 ],
 "metadata": {
  "kernelspec": {
   "display_name": "Python 3 (ipykernel)",
   "language": "python",
   "name": "python3"
  },
  "language_info": {
   "codemirror_mode": {
    "name": "ipython",
    "version": 3
   },
   "file_extension": ".py",
   "mimetype": "text/x-python",
   "name": "python",
   "nbconvert_exporter": "python",
   "pygments_lexer": "ipython3",
   "version": "3.10.9"
  }
 },
 "nbformat": 4,
 "nbformat_minor": 5
}
